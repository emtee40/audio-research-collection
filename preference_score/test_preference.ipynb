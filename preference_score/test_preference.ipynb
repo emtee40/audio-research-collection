{
 "cells": [
  {
   "cell_type": "code",
   "execution_count": 1,
   "metadata": {},
   "outputs": [],
   "source": [
    "%load_ext autoreload\n",
    "%autoreload 2"
   ]
  },
  {
   "cell_type": "code",
   "execution_count": 3,
   "metadata": {},
   "outputs": [],
   "source": [
    "import os\n",
    "import sys\n",
    "from pathlib import Path\n",
    "sys.path.insert(1, os.path.realpath(os.path.join(Path().absolute(), os.pardir, os.pardir)))"
   ]
  },
  {
   "cell_type": "code",
   "execution_count": 5,
   "metadata": {},
   "outputs": [],
   "source": [
    "from glob import glob\n",
    "import numpy as np\n",
    "import pandas as pd\n",
    "import scipy\n",
    "import matplotlib.pyplot as plt\n",
    "from tabulate import tabulate\n",
    "from frequency_response import FrequencyResponse\n",
    "from constants import ROOT_DIR, HARMAN_ONEAR_PREFERENCE_FREQUENCIES, HARMAN_INEAR_PREFENCE_FREQUENCIES"
   ]
  },
  {
   "cell_type": "code",
   "execution_count": 99,
   "metadata": {},
   "outputs": [],
   "source": [
    "harman_oe = FrequencyResponse.read_from_csv(os.path.join(ROOT_DIR, 'compensation', 'harman_over-ear_2018.csv'))\n",
    "errs = []\n",
    "names = []\n",
    "i = 0\n",
    "for fp in glob(os.path.join(ROOT_DIR, 'measurements', 'oratory1990', 'data', 'onear', '*', '*.csv')):\n",
    "    fr = FrequencyResponse.read_from_csv(fp)\n",
    "    names.append(fr.name)\n",
    "    fr.compensate(harman_oe, bass_boost_gain=0.0)\n",
    "    score, std, slope = fr.harman_onear_preference_score()\n",
    "    fr.interpolate(HARMAN_ONEAR_PREFERENCE_FREQUENCIES)\n",
    "    errs.append(np.concatenate([[std, slope, score], fr.raw[::-1]]))\n",
    "    if i > 9:\n",
    "        break\n",
    "    i += 1\n",
    "    # TODO: ignore samples\n",
    "errs = np.vstack(errs)\n",
    "pd.DataFrame(errs.transpose(), columns=names).to_csv('onear_errs.csv', header=True, index=False)"
   ]
  },
  {
   "cell_type": "code",
   "execution_count": 98,
   "metadata": {},
   "outputs": [],
   "source": [
    "harman_ie = FrequencyResponse.read_from_csv(os.path.join(ROOT_DIR, 'compensation', 'harman_in-ear_2019v2.csv'))\n",
    "harman_ie.center(1000)\n",
    "errs = []\n",
    "names = []\n",
    "i = 0\n",
    "for fp in glob(os.path.join(ROOT_DIR, 'measurements', 'oratory1990', 'data', 'inear', '*', '*.csv')):\n",
    "    fr = FrequencyResponse.read_from_csv(fp)\n",
    "    names.append(fr.name)\n",
    "    fr.compensate(harman_ie, bass_boost_gain=0.0)\n",
    "    score, std, slope, mean = fr.harman_inear_preference_score()\n",
    "    fr.interpolate(HARMAN_INEAR_PREFENCE_FREQUENCIES)\n",
    "    errs.append(np.concatenate([[std, slope, mean, score], fr.raw[::-1]]))\n",
    "    if i > 9:\n",
    "        break\n",
    "    i += 1\n",
    "errs = np.vstack(errs)\n",
    "pd.DataFrame(errs.transpose(), columns=names).to_csv('inear_errs.csv', header=True, index=False)"
   ]
  },
  {
   "cell_type": "code",
   "execution_count": 17,
   "metadata": {},
   "outputs": [
    {
     "data": {
      "text/plain": [
       "1.0"
      ]
     },
     "execution_count": 17,
     "metadata": {},
     "output_type": "execute_result"
    }
   ],
   "source": [
    "np.log2(2)"
   ]
  },
  {
   "cell_type": "code",
   "execution_count": null,
   "metadata": {},
   "outputs": [],
   "source": []
  }
 ],
 "metadata": {
  "kernelspec": {
   "display_name": "AutoEq (Python 3.7)",
   "language": "python",
   "name": "autoeq"
  },
  "language_info": {
   "codemirror_mode": {
    "name": "ipython",
    "version": 3
   },
   "file_extension": ".py",
   "mimetype": "text/x-python",
   "name": "python",
   "nbconvert_exporter": "python",
   "pygments_lexer": "ipython3",
   "version": "3.7.4"
  }
 },
 "nbformat": 4,
 "nbformat_minor": 4
}
